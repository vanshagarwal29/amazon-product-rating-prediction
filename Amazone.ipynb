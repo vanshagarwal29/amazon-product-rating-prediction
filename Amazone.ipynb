{
 "cells": [
  {
   "cell_type": "markdown",
   "id": "794a4230-f9f5-4824-90b5-de27804c281e",
   "metadata": {},
   "source": [
    "# Amazone "
   ]
  },
  {
   "cell_type": "code",
   "execution_count": 2,
   "id": "41059f19-6c61-40d5-b979-102dadbb8927",
   "metadata": {
    "scrolled": true
   },
   "outputs": [
    {
     "data": {
      "text/html": [
       "<div>\n",
       "<style scoped>\n",
       "    .dataframe tbody tr th:only-of-type {\n",
       "        vertical-align: middle;\n",
       "    }\n",
       "\n",
       "    .dataframe tbody tr th {\n",
       "        vertical-align: top;\n",
       "    }\n",
       "\n",
       "    .dataframe thead th {\n",
       "        text-align: right;\n",
       "    }\n",
       "</style>\n",
       "<table border=\"1\" class=\"dataframe\">\n",
       "  <thead>\n",
       "    <tr style=\"text-align: right;\">\n",
       "      <th></th>\n",
       "      <th>product_id</th>\n",
       "      <th>product_name</th>\n",
       "      <th>category</th>\n",
       "      <th>discounted_price</th>\n",
       "      <th>actual_price</th>\n",
       "      <th>discount_percentage</th>\n",
       "      <th>rating</th>\n",
       "      <th>rating_count</th>\n",
       "      <th>about_product</th>\n",
       "      <th>user_id</th>\n",
       "      <th>user_name</th>\n",
       "      <th>review_id</th>\n",
       "      <th>review_title</th>\n",
       "      <th>review_content</th>\n",
       "      <th>img_link</th>\n",
       "      <th>product_link</th>\n",
       "    </tr>\n",
       "  </thead>\n",
       "  <tbody>\n",
       "    <tr>\n",
       "      <th>0</th>\n",
       "      <td>B07JW9H4J1</td>\n",
       "      <td>Wayona Nylon Braided USB to Lightning Fast Cha...</td>\n",
       "      <td>Computers&amp;Accessories|Accessories&amp;Peripherals|...</td>\n",
       "      <td>₹399</td>\n",
       "      <td>₹1,099</td>\n",
       "      <td>64%</td>\n",
       "      <td>4.2</td>\n",
       "      <td>24,269</td>\n",
       "      <td>High Compatibility : Compatible With iPhone 12...</td>\n",
       "      <td>AG3D6O4STAQKAY2UVGEUV46KN35Q,AHMY5CWJMMK5BJRBB...</td>\n",
       "      <td>Manav,Adarsh gupta,Sundeep,S.Sayeed Ahmed,jasp...</td>\n",
       "      <td>R3HXWT0LRP0NMF,R2AJM3LFTLZHFO,R6AQJGUP6P86,R1K...</td>\n",
       "      <td>Satisfied,Charging is really fast,Value for mo...</td>\n",
       "      <td>Looks durable Charging is fine tooNo complains...</td>\n",
       "      <td>https://m.media-amazon.com/images/W/WEBP_40237...</td>\n",
       "      <td>https://www.amazon.in/Wayona-Braided-WN3LG1-Sy...</td>\n",
       "    </tr>\n",
       "    <tr>\n",
       "      <th>1</th>\n",
       "      <td>B098NS6PVG</td>\n",
       "      <td>Ambrane Unbreakable 60W / 3A Fast Charging 1.5...</td>\n",
       "      <td>Computers&amp;Accessories|Accessories&amp;Peripherals|...</td>\n",
       "      <td>₹199</td>\n",
       "      <td>₹349</td>\n",
       "      <td>43%</td>\n",
       "      <td>4.0</td>\n",
       "      <td>43,994</td>\n",
       "      <td>Compatible with all Type C enabled devices, be...</td>\n",
       "      <td>AECPFYFQVRUWC3KGNLJIOREFP5LQ,AGYYVPDD7YG7FYNBX...</td>\n",
       "      <td>ArdKn,Nirbhay kumar,Sagar Viswanathan,Asp,Plac...</td>\n",
       "      <td>RGIQEG07R9HS2,R1SMWZQ86XIN8U,R2J3Y1WL29GWDE,RY...</td>\n",
       "      <td>A Good Braided Cable for Your Type C Device,Go...</td>\n",
       "      <td>I ordered this cable to connect my phone to An...</td>\n",
       "      <td>https://m.media-amazon.com/images/W/WEBP_40237...</td>\n",
       "      <td>https://www.amazon.in/Ambrane-Unbreakable-Char...</td>\n",
       "    </tr>\n",
       "    <tr>\n",
       "      <th>2</th>\n",
       "      <td>B096MSW6CT</td>\n",
       "      <td>Sounce Fast Phone Charging Cable &amp; Data Sync U...</td>\n",
       "      <td>Computers&amp;Accessories|Accessories&amp;Peripherals|...</td>\n",
       "      <td>₹199</td>\n",
       "      <td>₹1,899</td>\n",
       "      <td>90%</td>\n",
       "      <td>3.9</td>\n",
       "      <td>7,928</td>\n",
       "      <td>【 Fast Charger&amp; Data Sync】-With built-in safet...</td>\n",
       "      <td>AGU3BBQ2V2DDAMOAKGFAWDDQ6QHA,AESFLDV2PT363T2AQ...</td>\n",
       "      <td>Kunal,Himanshu,viswanath,sai niharka,saqib mal...</td>\n",
       "      <td>R3J3EQQ9TZI5ZJ,R3E7WBGK7ID0KV,RWU79XKQ6I1QF,R2...</td>\n",
       "      <td>Good speed for earlier versions,Good Product,W...</td>\n",
       "      <td>Not quite durable and sturdy,https://m.media-a...</td>\n",
       "      <td>https://m.media-amazon.com/images/W/WEBP_40237...</td>\n",
       "      <td>https://www.amazon.in/Sounce-iPhone-Charging-C...</td>\n",
       "    </tr>\n",
       "    <tr>\n",
       "      <th>3</th>\n",
       "      <td>B08HDJ86NZ</td>\n",
       "      <td>boAt Deuce USB 300 2 in 1 Type-C &amp; Micro USB S...</td>\n",
       "      <td>Computers&amp;Accessories|Accessories&amp;Peripherals|...</td>\n",
       "      <td>₹329</td>\n",
       "      <td>₹699</td>\n",
       "      <td>53%</td>\n",
       "      <td>4.2</td>\n",
       "      <td>94,363</td>\n",
       "      <td>The boAt Deuce USB 300 2 in 1 cable is compati...</td>\n",
       "      <td>AEWAZDZZJLQUYVOVGBEUKSLXHQ5A,AG5HTSFRRE6NL3M5S...</td>\n",
       "      <td>Omkar dhale,JD,HEMALATHA,Ajwadh a.,amar singh ...</td>\n",
       "      <td>R3EEUZKKK9J36I,R3HJVYCLYOY554,REDECAZ7AMPQC,R1...</td>\n",
       "      <td>Good product,Good one,Nice,Really nice product...</td>\n",
       "      <td>Good product,long wire,Charges good,Nice,I bou...</td>\n",
       "      <td>https://m.media-amazon.com/images/I/41V5FtEWPk...</td>\n",
       "      <td>https://www.amazon.in/Deuce-300-Resistant-Tang...</td>\n",
       "    </tr>\n",
       "    <tr>\n",
       "      <th>4</th>\n",
       "      <td>B08CF3B7N1</td>\n",
       "      <td>Portronics Konnect L 1.2M Fast Charging 3A 8 P...</td>\n",
       "      <td>Computers&amp;Accessories|Accessories&amp;Peripherals|...</td>\n",
       "      <td>₹154</td>\n",
       "      <td>₹399</td>\n",
       "      <td>61%</td>\n",
       "      <td>4.2</td>\n",
       "      <td>16,905</td>\n",
       "      <td>[CHARGE &amp; SYNC FUNCTION]- This cable comes wit...</td>\n",
       "      <td>AE3Q6KSUK5P75D5HFYHCRAOLODSA,AFUGIFH5ZAFXRDSZH...</td>\n",
       "      <td>rahuls6099,Swasat Borah,Ajay Wadke,Pranali,RVK...</td>\n",
       "      <td>R1BP4L2HH9TFUP,R16PVJEXKV6QZS,R2UPDB81N66T4P,R...</td>\n",
       "      <td>As good as original,Decent,Good one for second...</td>\n",
       "      <td>Bought this instead of original apple, does th...</td>\n",
       "      <td>https://m.media-amazon.com/images/W/WEBP_40237...</td>\n",
       "      <td>https://www.amazon.in/Portronics-Konnect-POR-1...</td>\n",
       "    </tr>\n",
       "    <tr>\n",
       "      <th>5</th>\n",
       "      <td>B08Y1TFSP6</td>\n",
       "      <td>pTron Solero TB301 3A Type-C Data and Fast Cha...</td>\n",
       "      <td>Computers&amp;Accessories|Accessories&amp;Peripherals|...</td>\n",
       "      <td>₹149</td>\n",
       "      <td>₹1,000</td>\n",
       "      <td>85%</td>\n",
       "      <td>3.9</td>\n",
       "      <td>24,871</td>\n",
       "      <td>Fast Charging &amp; Data Sync: Solero TB301 Type-C...</td>\n",
       "      <td>AEQ2YMXSZWEOHK2EHTNLOS56YTZQ,AGRVINWECNY7323CW...</td>\n",
       "      <td>Jayesh,Rajesh k.,Soopy,amazon customer,Aman,Sh...</td>\n",
       "      <td>R7S8ANNSDPR40,R3CLZFLHVJU26P,RFF7U7MPQFUGR,R1M...</td>\n",
       "      <td>It's pretty good,Average quality,very good and...</td>\n",
       "      <td>It's a good product.,Like,Very good item stron...</td>\n",
       "      <td>https://m.media-amazon.com/images/I/31wOPjcSxl...</td>\n",
       "      <td>https://www.amazon.in/Solero-TB301-Charging-48...</td>\n",
       "    </tr>\n",
       "    <tr>\n",
       "      <th>6</th>\n",
       "      <td>B08WRWPM22</td>\n",
       "      <td>boAt Micro USB 55 Tangle-free, Sturdy Micro US...</td>\n",
       "      <td>Computers&amp;Accessories|Accessories&amp;Peripherals|...</td>\n",
       "      <td>₹176.63</td>\n",
       "      <td>₹499</td>\n",
       "      <td>65%</td>\n",
       "      <td>4.1</td>\n",
       "      <td>15,188</td>\n",
       "      <td>It Ensures High Speed Transmission And Chargin...</td>\n",
       "      <td>AG7C6DAADCTRQJG2BRS3RIKDT52Q,AFU7BOMPVJ7Q3TTA4...</td>\n",
       "      <td>Vivek kumar,Amazon Customer,SARTHAK,Chiranjeev...</td>\n",
       "      <td>R8E73K2KWJRDS,RSD0JTIIWQQL8,R64CRSTE9SLW1,R2FR...</td>\n",
       "      <td>Long durable.,good,Does not charge Lenovo m8 t...</td>\n",
       "      <td>Build quality is good and it is comes with 2 y...</td>\n",
       "      <td>https://m.media-amazon.com/images/W/WEBP_40237...</td>\n",
       "      <td>https://www.amazon.in/boAt-Micro-USB-Tangle-Fr...</td>\n",
       "    </tr>\n",
       "    <tr>\n",
       "      <th>7</th>\n",
       "      <td>B08DDRGWTJ</td>\n",
       "      <td>MI Usb Type-C Cable Smartphone (Black)</td>\n",
       "      <td>Computers&amp;Accessories|Accessories&amp;Peripherals|...</td>\n",
       "      <td>₹229</td>\n",
       "      <td>₹299</td>\n",
       "      <td>23%</td>\n",
       "      <td>4.3</td>\n",
       "      <td>30,411</td>\n",
       "      <td>1m long Type-C USB Cable|Sturdy and Durable. W...</td>\n",
       "      <td>AHW6E5LQ2BDYOIVLAJGDH45J5V5Q,AF74RSGCHPZITVFSZ...</td>\n",
       "      <td>Pavan A H,Jayesh bagad,Shridhar,rajendran,karu...</td>\n",
       "      <td>R2X090D1YHACKR,R32ZCIH9AFNJ60,R3N57EVVG0EHAF,R...</td>\n",
       "      <td>Worth for money - suitable for Android auto,Go...</td>\n",
       "      <td>Worth for money - suitable for Android auto......</td>\n",
       "      <td>https://m.media-amazon.com/images/I/31XO-wfGGG...</td>\n",
       "      <td>https://www.amazon.in/MI-MTCY001IN-USB-Type-C-...</td>\n",
       "    </tr>\n",
       "    <tr>\n",
       "      <th>8</th>\n",
       "      <td>B008IFXQFU</td>\n",
       "      <td>TP-Link USB WiFi Adapter for PC(TL-WN725N), N1...</td>\n",
       "      <td>Computers&amp;Accessories|NetworkingDevices|Networ...</td>\n",
       "      <td>₹499</td>\n",
       "      <td>₹999</td>\n",
       "      <td>50%</td>\n",
       "      <td>4.2</td>\n",
       "      <td>1,79,691</td>\n",
       "      <td>USB WiFi Adapter —— Speedy wireless transmissi...</td>\n",
       "      <td>AGV3IEFANZCKECFGUM42MRH5FNOA,AEBO7NWCNXKT4AESA...</td>\n",
       "      <td>Azhar JuMan,Anirudh Sood,Hari Krishnan PS,Akas...</td>\n",
       "      <td>R1LW6NWSVTVZ2H,R3VR5WFKUS15C5,R2F6GC79OYWUKQ,R...</td>\n",
       "      <td>Works on linux for me. Get the model with ante...</td>\n",
       "      <td>I use this to connect an old PC to internet. I...</td>\n",
       "      <td>https://m.media-amazon.com/images/W/WEBP_40237...</td>\n",
       "      <td>https://www.amazon.in/TP-Link-TL-WN725N-150Mbp...</td>\n",
       "    </tr>\n",
       "    <tr>\n",
       "      <th>9</th>\n",
       "      <td>B082LZGK39</td>\n",
       "      <td>Ambrane Unbreakable 60W / 3A Fast Charging 1.5...</td>\n",
       "      <td>Computers&amp;Accessories|Accessories&amp;Peripherals|...</td>\n",
       "      <td>₹199</td>\n",
       "      <td>₹299</td>\n",
       "      <td>33%</td>\n",
       "      <td>4.0</td>\n",
       "      <td>43,994</td>\n",
       "      <td>Universal Compatibility – It is compatible wit...</td>\n",
       "      <td>AECPFYFQVRUWC3KGNLJIOREFP5LQ,AGYYVPDD7YG7FYNBX...</td>\n",
       "      <td>ArdKn,Nirbhay kumar,Sagar Viswanathan,Asp,Plac...</td>\n",
       "      <td>RGIQEG07R9HS2,R1SMWZQ86XIN8U,R2J3Y1WL29GWDE,RY...</td>\n",
       "      <td>A Good Braided Cable for Your Type C Device,Go...</td>\n",
       "      <td>I ordered this cable to connect my phone to An...</td>\n",
       "      <td>https://m.media-amazon.com/images/W/WEBP_40237...</td>\n",
       "      <td>https://www.amazon.in/Ambrane-Unbreakable-Char...</td>\n",
       "    </tr>\n",
       "  </tbody>\n",
       "</table>\n",
       "</div>"
      ],
      "text/plain": [
       "   product_id                                       product_name  \\\n",
       "0  B07JW9H4J1  Wayona Nylon Braided USB to Lightning Fast Cha...   \n",
       "1  B098NS6PVG  Ambrane Unbreakable 60W / 3A Fast Charging 1.5...   \n",
       "2  B096MSW6CT  Sounce Fast Phone Charging Cable & Data Sync U...   \n",
       "3  B08HDJ86NZ  boAt Deuce USB 300 2 in 1 Type-C & Micro USB S...   \n",
       "4  B08CF3B7N1  Portronics Konnect L 1.2M Fast Charging 3A 8 P...   \n",
       "5  B08Y1TFSP6  pTron Solero TB301 3A Type-C Data and Fast Cha...   \n",
       "6  B08WRWPM22  boAt Micro USB 55 Tangle-free, Sturdy Micro US...   \n",
       "7  B08DDRGWTJ             MI Usb Type-C Cable Smartphone (Black)   \n",
       "8  B008IFXQFU  TP-Link USB WiFi Adapter for PC(TL-WN725N), N1...   \n",
       "9  B082LZGK39  Ambrane Unbreakable 60W / 3A Fast Charging 1.5...   \n",
       "\n",
       "                                            category discounted_price  \\\n",
       "0  Computers&Accessories|Accessories&Peripherals|...             ₹399   \n",
       "1  Computers&Accessories|Accessories&Peripherals|...             ₹199   \n",
       "2  Computers&Accessories|Accessories&Peripherals|...             ₹199   \n",
       "3  Computers&Accessories|Accessories&Peripherals|...             ₹329   \n",
       "4  Computers&Accessories|Accessories&Peripherals|...             ₹154   \n",
       "5  Computers&Accessories|Accessories&Peripherals|...             ₹149   \n",
       "6  Computers&Accessories|Accessories&Peripherals|...          ₹176.63   \n",
       "7  Computers&Accessories|Accessories&Peripherals|...             ₹229   \n",
       "8  Computers&Accessories|NetworkingDevices|Networ...             ₹499   \n",
       "9  Computers&Accessories|Accessories&Peripherals|...             ₹199   \n",
       "\n",
       "  actual_price discount_percentage rating rating_count  \\\n",
       "0       ₹1,099                 64%    4.2       24,269   \n",
       "1         ₹349                 43%    4.0       43,994   \n",
       "2       ₹1,899                 90%    3.9        7,928   \n",
       "3         ₹699                 53%    4.2       94,363   \n",
       "4         ₹399                 61%    4.2       16,905   \n",
       "5       ₹1,000                 85%    3.9       24,871   \n",
       "6         ₹499                 65%    4.1       15,188   \n",
       "7         ₹299                 23%    4.3       30,411   \n",
       "8         ₹999                 50%    4.2     1,79,691   \n",
       "9         ₹299                 33%    4.0       43,994   \n",
       "\n",
       "                                       about_product  \\\n",
       "0  High Compatibility : Compatible With iPhone 12...   \n",
       "1  Compatible with all Type C enabled devices, be...   \n",
       "2  【 Fast Charger& Data Sync】-With built-in safet...   \n",
       "3  The boAt Deuce USB 300 2 in 1 cable is compati...   \n",
       "4  [CHARGE & SYNC FUNCTION]- This cable comes wit...   \n",
       "5  Fast Charging & Data Sync: Solero TB301 Type-C...   \n",
       "6  It Ensures High Speed Transmission And Chargin...   \n",
       "7  1m long Type-C USB Cable|Sturdy and Durable. W...   \n",
       "8  USB WiFi Adapter —— Speedy wireless transmissi...   \n",
       "9  Universal Compatibility – It is compatible wit...   \n",
       "\n",
       "                                             user_id  \\\n",
       "0  AG3D6O4STAQKAY2UVGEUV46KN35Q,AHMY5CWJMMK5BJRBB...   \n",
       "1  AECPFYFQVRUWC3KGNLJIOREFP5LQ,AGYYVPDD7YG7FYNBX...   \n",
       "2  AGU3BBQ2V2DDAMOAKGFAWDDQ6QHA,AESFLDV2PT363T2AQ...   \n",
       "3  AEWAZDZZJLQUYVOVGBEUKSLXHQ5A,AG5HTSFRRE6NL3M5S...   \n",
       "4  AE3Q6KSUK5P75D5HFYHCRAOLODSA,AFUGIFH5ZAFXRDSZH...   \n",
       "5  AEQ2YMXSZWEOHK2EHTNLOS56YTZQ,AGRVINWECNY7323CW...   \n",
       "6  AG7C6DAADCTRQJG2BRS3RIKDT52Q,AFU7BOMPVJ7Q3TTA4...   \n",
       "7  AHW6E5LQ2BDYOIVLAJGDH45J5V5Q,AF74RSGCHPZITVFSZ...   \n",
       "8  AGV3IEFANZCKECFGUM42MRH5FNOA,AEBO7NWCNXKT4AESA...   \n",
       "9  AECPFYFQVRUWC3KGNLJIOREFP5LQ,AGYYVPDD7YG7FYNBX...   \n",
       "\n",
       "                                           user_name  \\\n",
       "0  Manav,Adarsh gupta,Sundeep,S.Sayeed Ahmed,jasp...   \n",
       "1  ArdKn,Nirbhay kumar,Sagar Viswanathan,Asp,Plac...   \n",
       "2  Kunal,Himanshu,viswanath,sai niharka,saqib mal...   \n",
       "3  Omkar dhale,JD,HEMALATHA,Ajwadh a.,amar singh ...   \n",
       "4  rahuls6099,Swasat Borah,Ajay Wadke,Pranali,RVK...   \n",
       "5  Jayesh,Rajesh k.,Soopy,amazon customer,Aman,Sh...   \n",
       "6  Vivek kumar,Amazon Customer,SARTHAK,Chiranjeev...   \n",
       "7  Pavan A H,Jayesh bagad,Shridhar,rajendran,karu...   \n",
       "8  Azhar JuMan,Anirudh Sood,Hari Krishnan PS,Akas...   \n",
       "9  ArdKn,Nirbhay kumar,Sagar Viswanathan,Asp,Plac...   \n",
       "\n",
       "                                           review_id  \\\n",
       "0  R3HXWT0LRP0NMF,R2AJM3LFTLZHFO,R6AQJGUP6P86,R1K...   \n",
       "1  RGIQEG07R9HS2,R1SMWZQ86XIN8U,R2J3Y1WL29GWDE,RY...   \n",
       "2  R3J3EQQ9TZI5ZJ,R3E7WBGK7ID0KV,RWU79XKQ6I1QF,R2...   \n",
       "3  R3EEUZKKK9J36I,R3HJVYCLYOY554,REDECAZ7AMPQC,R1...   \n",
       "4  R1BP4L2HH9TFUP,R16PVJEXKV6QZS,R2UPDB81N66T4P,R...   \n",
       "5  R7S8ANNSDPR40,R3CLZFLHVJU26P,RFF7U7MPQFUGR,R1M...   \n",
       "6  R8E73K2KWJRDS,RSD0JTIIWQQL8,R64CRSTE9SLW1,R2FR...   \n",
       "7  R2X090D1YHACKR,R32ZCIH9AFNJ60,R3N57EVVG0EHAF,R...   \n",
       "8  R1LW6NWSVTVZ2H,R3VR5WFKUS15C5,R2F6GC79OYWUKQ,R...   \n",
       "9  RGIQEG07R9HS2,R1SMWZQ86XIN8U,R2J3Y1WL29GWDE,RY...   \n",
       "\n",
       "                                        review_title  \\\n",
       "0  Satisfied,Charging is really fast,Value for mo...   \n",
       "1  A Good Braided Cable for Your Type C Device,Go...   \n",
       "2  Good speed for earlier versions,Good Product,W...   \n",
       "3  Good product,Good one,Nice,Really nice product...   \n",
       "4  As good as original,Decent,Good one for second...   \n",
       "5  It's pretty good,Average quality,very good and...   \n",
       "6  Long durable.,good,Does not charge Lenovo m8 t...   \n",
       "7  Worth for money - suitable for Android auto,Go...   \n",
       "8  Works on linux for me. Get the model with ante...   \n",
       "9  A Good Braided Cable for Your Type C Device,Go...   \n",
       "\n",
       "                                      review_content  \\\n",
       "0  Looks durable Charging is fine tooNo complains...   \n",
       "1  I ordered this cable to connect my phone to An...   \n",
       "2  Not quite durable and sturdy,https://m.media-a...   \n",
       "3  Good product,long wire,Charges good,Nice,I bou...   \n",
       "4  Bought this instead of original apple, does th...   \n",
       "5  It's a good product.,Like,Very good item stron...   \n",
       "6  Build quality is good and it is comes with 2 y...   \n",
       "7  Worth for money - suitable for Android auto......   \n",
       "8  I use this to connect an old PC to internet. I...   \n",
       "9  I ordered this cable to connect my phone to An...   \n",
       "\n",
       "                                            img_link  \\\n",
       "0  https://m.media-amazon.com/images/W/WEBP_40237...   \n",
       "1  https://m.media-amazon.com/images/W/WEBP_40237...   \n",
       "2  https://m.media-amazon.com/images/W/WEBP_40237...   \n",
       "3  https://m.media-amazon.com/images/I/41V5FtEWPk...   \n",
       "4  https://m.media-amazon.com/images/W/WEBP_40237...   \n",
       "5  https://m.media-amazon.com/images/I/31wOPjcSxl...   \n",
       "6  https://m.media-amazon.com/images/W/WEBP_40237...   \n",
       "7  https://m.media-amazon.com/images/I/31XO-wfGGG...   \n",
       "8  https://m.media-amazon.com/images/W/WEBP_40237...   \n",
       "9  https://m.media-amazon.com/images/W/WEBP_40237...   \n",
       "\n",
       "                                        product_link  \n",
       "0  https://www.amazon.in/Wayona-Braided-WN3LG1-Sy...  \n",
       "1  https://www.amazon.in/Ambrane-Unbreakable-Char...  \n",
       "2  https://www.amazon.in/Sounce-iPhone-Charging-C...  \n",
       "3  https://www.amazon.in/Deuce-300-Resistant-Tang...  \n",
       "4  https://www.amazon.in/Portronics-Konnect-POR-1...  \n",
       "5  https://www.amazon.in/Solero-TB301-Charging-48...  \n",
       "6  https://www.amazon.in/boAt-Micro-USB-Tangle-Fr...  \n",
       "7  https://www.amazon.in/MI-MTCY001IN-USB-Type-C-...  \n",
       "8  https://www.amazon.in/TP-Link-TL-WN725N-150Mbp...  \n",
       "9  https://www.amazon.in/Ambrane-Unbreakable-Char...  "
      ]
     },
     "execution_count": 2,
     "metadata": {},
     "output_type": "execute_result"
    }
   ],
   "source": [
    "# import the data\n",
    "import pandas as pd\n",
    "data=pd.read_csv(r\"C:\\Users\\lenovo\\Desktop\\data for project\\amazon.csv\")\n",
    "data.head(10)"
   ]
  },
  {
   "cell_type": "code",
   "execution_count": 3,
   "id": "df1bd79f-c4fd-4c00-9692-e4fb2d62aeb5",
   "metadata": {},
   "outputs": [
    {
     "data": {
      "text/plain": [
       "(1465, 16)"
      ]
     },
     "execution_count": 3,
     "metadata": {},
     "output_type": "execute_result"
    }
   ],
   "source": [
    "# check shape to the data\n",
    "\n",
    "data.shape"
   ]
  },
  {
   "cell_type": "code",
   "execution_count": 4,
   "id": "76ddadb7-860b-40d5-98c2-25bebe0de207",
   "metadata": {},
   "outputs": [
    {
     "data": {
      "text/plain": [
       "product_id             0\n",
       "product_name           0\n",
       "category               0\n",
       "discounted_price       0\n",
       "actual_price           0\n",
       "discount_percentage    0\n",
       "rating                 0\n",
       "rating_count           2\n",
       "about_product          0\n",
       "user_id                0\n",
       "user_name              0\n",
       "review_id              0\n",
       "review_title           0\n",
       "review_content         0\n",
       "img_link               0\n",
       "product_link           0\n",
       "dtype: int64"
      ]
     },
     "execution_count": 4,
     "metadata": {},
     "output_type": "execute_result"
    }
   ],
   "source": [
    "# check null values\n",
    "\n",
    "data.isnull().sum()"
   ]
  },
  {
   "cell_type": "code",
   "execution_count": 5,
   "id": "c153de5e-bbd2-42aa-b25f-1f86de956300",
   "metadata": {},
   "outputs": [
    {
     "data": {
      "text/html": [
       "<div>\n",
       "<style scoped>\n",
       "    .dataframe tbody tr th:only-of-type {\n",
       "        vertical-align: middle;\n",
       "    }\n",
       "\n",
       "    .dataframe tbody tr th {\n",
       "        vertical-align: top;\n",
       "    }\n",
       "\n",
       "    .dataframe thead th {\n",
       "        text-align: right;\n",
       "    }\n",
       "</style>\n",
       "<table border=\"1\" class=\"dataframe\">\n",
       "  <thead>\n",
       "    <tr style=\"text-align: right;\">\n",
       "      <th></th>\n",
       "      <th>product_id</th>\n",
       "      <th>product_name</th>\n",
       "      <th>category</th>\n",
       "      <th>discounted_price</th>\n",
       "      <th>actual_price</th>\n",
       "      <th>discount_percentage</th>\n",
       "      <th>rating</th>\n",
       "      <th>rating_count</th>\n",
       "      <th>about_product</th>\n",
       "      <th>user_id</th>\n",
       "      <th>user_name</th>\n",
       "      <th>review_id</th>\n",
       "      <th>review_title</th>\n",
       "      <th>review_content</th>\n",
       "      <th>img_link</th>\n",
       "      <th>product_link</th>\n",
       "    </tr>\n",
       "  </thead>\n",
       "  <tbody>\n",
       "    <tr>\n",
       "      <th>282</th>\n",
       "      <td>B0B94JPY2N</td>\n",
       "      <td>Amazon Brand - Solimo 65W Fast Charging Braide...</td>\n",
       "      <td>Computers&amp;Accessories|Accessories&amp;Peripherals|...</td>\n",
       "      <td>₹199</td>\n",
       "      <td>₹999</td>\n",
       "      <td>80%</td>\n",
       "      <td>3.0</td>\n",
       "      <td>NaN</td>\n",
       "      <td>USB C to C Cable: This cable has type C connec...</td>\n",
       "      <td>AE7CFHY23VAJT2FI4NZKKP6GS2UQ</td>\n",
       "      <td>Pranav</td>\n",
       "      <td>RUB7U91HVZ30</td>\n",
       "      <td>The cable works but is not 65W as advertised</td>\n",
       "      <td>I have a pd supported car charger and I bought...</td>\n",
       "      <td>https://m.media-amazon.com/images/W/WEBP_40237...</td>\n",
       "      <td>https://www.amazon.in/Amazon-Brand-Charging-Su...</td>\n",
       "    </tr>\n",
       "    <tr>\n",
       "      <th>324</th>\n",
       "      <td>B0BQRJ3C47</td>\n",
       "      <td>REDTECH USB-C to Lightning Cable 3.3FT, [Apple...</td>\n",
       "      <td>Computers&amp;Accessories|Accessories&amp;Peripherals|...</td>\n",
       "      <td>₹249</td>\n",
       "      <td>₹999</td>\n",
       "      <td>75%</td>\n",
       "      <td>5.0</td>\n",
       "      <td>NaN</td>\n",
       "      <td>💎[The Fastest Charge] - This iPhone USB C cabl...</td>\n",
       "      <td>AGJC5O5H5BBXWUV7WRIEIOOR3TVQ</td>\n",
       "      <td>Abdul Gafur</td>\n",
       "      <td>RQXD5SAMMPC6L</td>\n",
       "      <td>Awesome Product</td>\n",
       "      <td>Quick delivery.Awesome ProductPacking was good...</td>\n",
       "      <td>https://m.media-amazon.com/images/I/31-q0xhaTA...</td>\n",
       "      <td>https://www.amazon.in/REDTECH-Lightning-Certif...</td>\n",
       "    </tr>\n",
       "  </tbody>\n",
       "</table>\n",
       "</div>"
      ],
      "text/plain": [
       "     product_id                                       product_name  \\\n",
       "282  B0B94JPY2N  Amazon Brand - Solimo 65W Fast Charging Braide...   \n",
       "324  B0BQRJ3C47  REDTECH USB-C to Lightning Cable 3.3FT, [Apple...   \n",
       "\n",
       "                                              category discounted_price  \\\n",
       "282  Computers&Accessories|Accessories&Peripherals|...             ₹199   \n",
       "324  Computers&Accessories|Accessories&Peripherals|...             ₹249   \n",
       "\n",
       "    actual_price discount_percentage rating rating_count  \\\n",
       "282         ₹999                 80%    3.0          NaN   \n",
       "324         ₹999                 75%    5.0          NaN   \n",
       "\n",
       "                                         about_product  \\\n",
       "282  USB C to C Cable: This cable has type C connec...   \n",
       "324  💎[The Fastest Charge] - This iPhone USB C cabl...   \n",
       "\n",
       "                          user_id    user_name      review_id  \\\n",
       "282  AE7CFHY23VAJT2FI4NZKKP6GS2UQ       Pranav   RUB7U91HVZ30   \n",
       "324  AGJC5O5H5BBXWUV7WRIEIOOR3TVQ  Abdul Gafur  RQXD5SAMMPC6L   \n",
       "\n",
       "                                     review_title  \\\n",
       "282  The cable works but is not 65W as advertised   \n",
       "324                               Awesome Product   \n",
       "\n",
       "                                        review_content  \\\n",
       "282  I have a pd supported car charger and I bought...   \n",
       "324  Quick delivery.Awesome ProductPacking was good...   \n",
       "\n",
       "                                              img_link  \\\n",
       "282  https://m.media-amazon.com/images/W/WEBP_40237...   \n",
       "324  https://m.media-amazon.com/images/I/31-q0xhaTA...   \n",
       "\n",
       "                                          product_link  \n",
       "282  https://www.amazon.in/Amazon-Brand-Charging-Su...  \n",
       "324  https://www.amazon.in/REDTECH-Lightning-Certif...  "
      ]
     },
     "execution_count": 5,
     "metadata": {},
     "output_type": "execute_result"
    }
   ],
   "source": [
    "# check in specific rows of null values\n",
    "\n",
    "data[data[\"rating_count\"].isnull()]"
   ]
  },
  {
   "cell_type": "code",
   "execution_count": 6,
   "id": "fe885b6a-7b3d-4b63-bad2-8119f0124684",
   "metadata": {},
   "outputs": [],
   "source": [
    "# Remove the null value \n",
    "\n",
    "data=data.dropna(subset=['rating_count'])"
   ]
  },
  {
   "cell_type": "code",
   "execution_count": 7,
   "id": "06dafcaa-3427-447d-8311-fe8670dce730",
   "metadata": {},
   "outputs": [
    {
     "data": {
      "text/plain": [
       "product_id             0\n",
       "product_name           0\n",
       "category               0\n",
       "discounted_price       0\n",
       "actual_price           0\n",
       "discount_percentage    0\n",
       "rating                 0\n",
       "rating_count           0\n",
       "about_product          0\n",
       "user_id                0\n",
       "user_name              0\n",
       "review_id              0\n",
       "review_title           0\n",
       "review_content         0\n",
       "img_link               0\n",
       "product_link           0\n",
       "dtype: int64"
      ]
     },
     "execution_count": 7,
     "metadata": {},
     "output_type": "execute_result"
    }
   ],
   "source": [
    "# Again check null values\n",
    "\n",
    "data.isnull().sum()"
   ]
  },
  {
   "cell_type": "code",
   "execution_count": 8,
   "id": "a2e06916-d9cf-4d92-ba1c-1be42e9d25f1",
   "metadata": {},
   "outputs": [
    {
     "data": {
      "text/plain": [
       "Index(['product_id', 'product_name', 'category', 'discounted_price',\n",
       "       'actual_price', 'discount_percentage', 'rating', 'rating_count',\n",
       "       'about_product', 'user_id', 'user_name', 'review_id', 'review_title',\n",
       "       'review_content', 'img_link', 'product_link'],\n",
       "      dtype='object')"
      ]
     },
     "execution_count": 8,
     "metadata": {},
     "output_type": "execute_result"
    }
   ],
   "source": [
    "# check the columns name\n",
    "\n",
    "data.columns"
   ]
  },
  {
   "cell_type": "code",
   "execution_count": 9,
   "id": "7ddd84d5-604e-4526-9be7-d3d4cabf5bab",
   "metadata": {},
   "outputs": [
    {
     "data": {
      "text/html": [
       "<div>\n",
       "<style scoped>\n",
       "    .dataframe tbody tr th:only-of-type {\n",
       "        vertical-align: middle;\n",
       "    }\n",
       "\n",
       "    .dataframe tbody tr th {\n",
       "        vertical-align: top;\n",
       "    }\n",
       "\n",
       "    .dataframe thead th {\n",
       "        text-align: right;\n",
       "    }\n",
       "</style>\n",
       "<table border=\"1\" class=\"dataframe\">\n",
       "  <thead>\n",
       "    <tr style=\"text-align: right;\">\n",
       "      <th></th>\n",
       "      <th>product_id</th>\n",
       "      <th>product_name</th>\n",
       "      <th>category</th>\n",
       "      <th>discounted_price</th>\n",
       "      <th>actual_price</th>\n",
       "      <th>discount_percentage</th>\n",
       "      <th>rating</th>\n",
       "      <th>rating_count</th>\n",
       "      <th>about_product</th>\n",
       "      <th>user_id</th>\n",
       "      <th>user_name</th>\n",
       "      <th>review_id</th>\n",
       "      <th>review_title</th>\n",
       "      <th>review_content</th>\n",
       "      <th>img_link</th>\n",
       "      <th>product_link</th>\n",
       "    </tr>\n",
       "  </thead>\n",
       "  <tbody>\n",
       "    <tr>\n",
       "      <th>count</th>\n",
       "      <td>1463</td>\n",
       "      <td>1463</td>\n",
       "      <td>1463</td>\n",
       "      <td>1463</td>\n",
       "      <td>1463</td>\n",
       "      <td>1463</td>\n",
       "      <td>1463</td>\n",
       "      <td>1463</td>\n",
       "      <td>1463</td>\n",
       "      <td>1463</td>\n",
       "      <td>1463</td>\n",
       "      <td>1463</td>\n",
       "      <td>1463</td>\n",
       "      <td>1463</td>\n",
       "      <td>1463</td>\n",
       "      <td>1463</td>\n",
       "    </tr>\n",
       "    <tr>\n",
       "      <th>unique</th>\n",
       "      <td>1349</td>\n",
       "      <td>1335</td>\n",
       "      <td>211</td>\n",
       "      <td>550</td>\n",
       "      <td>449</td>\n",
       "      <td>92</td>\n",
       "      <td>28</td>\n",
       "      <td>1143</td>\n",
       "      <td>1291</td>\n",
       "      <td>1192</td>\n",
       "      <td>1192</td>\n",
       "      <td>1192</td>\n",
       "      <td>1192</td>\n",
       "      <td>1210</td>\n",
       "      <td>1410</td>\n",
       "      <td>1463</td>\n",
       "    </tr>\n",
       "    <tr>\n",
       "      <th>top</th>\n",
       "      <td>B096MSW6CT</td>\n",
       "      <td>Fire-Boltt Ninja Call Pro Plus 1.83\" Smart Wat...</td>\n",
       "      <td>Computers&amp;Accessories|Accessories&amp;Peripherals|...</td>\n",
       "      <td>₹199</td>\n",
       "      <td>₹999</td>\n",
       "      <td>50%</td>\n",
       "      <td>4.1</td>\n",
       "      <td>9,378</td>\n",
       "      <td>[CHARGE &amp; SYNC FUNCTION]- This cable comes wit...</td>\n",
       "      <td>AHIKJUDTVJ4T6DV6IUGFYZ5LXMPA,AE55KTFVNXYFD5FPY...</td>\n",
       "      <td>$@|\\|TO$|-|,Sethu madhav,Akash Thakur,Burger P...</td>\n",
       "      <td>R3F4T5TRYPTMIG,R3DQIEC603E7AY,R1O4Z15FD40PV5,R...</td>\n",
       "      <td>Worked on iPhone 7 and didn’t work on XR,Good ...</td>\n",
       "      <td>I am not big on camera usage, personally. I wa...</td>\n",
       "      <td>https://m.media-amazon.com/images/I/413sCRKobN...</td>\n",
       "      <td>https://www.amazon.in/Borosil-Jumbo-1000-Watt-...</td>\n",
       "    </tr>\n",
       "    <tr>\n",
       "      <th>freq</th>\n",
       "      <td>3</td>\n",
       "      <td>5</td>\n",
       "      <td>231</td>\n",
       "      <td>52</td>\n",
       "      <td>118</td>\n",
       "      <td>56</td>\n",
       "      <td>244</td>\n",
       "      <td>9</td>\n",
       "      <td>6</td>\n",
       "      <td>10</td>\n",
       "      <td>10</td>\n",
       "      <td>10</td>\n",
       "      <td>10</td>\n",
       "      <td>8</td>\n",
       "      <td>3</td>\n",
       "      <td>1</td>\n",
       "    </tr>\n",
       "  </tbody>\n",
       "</table>\n",
       "</div>"
      ],
      "text/plain": [
       "        product_id                                       product_name  \\\n",
       "count         1463                                               1463   \n",
       "unique        1349                                               1335   \n",
       "top     B096MSW6CT  Fire-Boltt Ninja Call Pro Plus 1.83\" Smart Wat...   \n",
       "freq             3                                                  5   \n",
       "\n",
       "                                                 category discounted_price  \\\n",
       "count                                                1463             1463   \n",
       "unique                                                211              550   \n",
       "top     Computers&Accessories|Accessories&Peripherals|...             ₹199   \n",
       "freq                                                  231               52   \n",
       "\n",
       "       actual_price discount_percentage rating rating_count  \\\n",
       "count          1463                1463   1463         1463   \n",
       "unique          449                  92     28         1143   \n",
       "top            ₹999                 50%    4.1        9,378   \n",
       "freq            118                  56    244            9   \n",
       "\n",
       "                                            about_product  \\\n",
       "count                                                1463   \n",
       "unique                                               1291   \n",
       "top     [CHARGE & SYNC FUNCTION]- This cable comes wit...   \n",
       "freq                                                    6   \n",
       "\n",
       "                                                  user_id  \\\n",
       "count                                                1463   \n",
       "unique                                               1192   \n",
       "top     AHIKJUDTVJ4T6DV6IUGFYZ5LXMPA,AE55KTFVNXYFD5FPY...   \n",
       "freq                                                   10   \n",
       "\n",
       "                                                user_name  \\\n",
       "count                                                1463   \n",
       "unique                                               1192   \n",
       "top     $@|\\|TO$|-|,Sethu madhav,Akash Thakur,Burger P...   \n",
       "freq                                                   10   \n",
       "\n",
       "                                                review_id  \\\n",
       "count                                                1463   \n",
       "unique                                               1192   \n",
       "top     R3F4T5TRYPTMIG,R3DQIEC603E7AY,R1O4Z15FD40PV5,R...   \n",
       "freq                                                   10   \n",
       "\n",
       "                                             review_title  \\\n",
       "count                                                1463   \n",
       "unique                                               1192   \n",
       "top     Worked on iPhone 7 and didn’t work on XR,Good ...   \n",
       "freq                                                   10   \n",
       "\n",
       "                                           review_content  \\\n",
       "count                                                1463   \n",
       "unique                                               1210   \n",
       "top     I am not big on camera usage, personally. I wa...   \n",
       "freq                                                    8   \n",
       "\n",
       "                                                 img_link  \\\n",
       "count                                                1463   \n",
       "unique                                               1410   \n",
       "top     https://m.media-amazon.com/images/I/413sCRKobN...   \n",
       "freq                                                    3   \n",
       "\n",
       "                                             product_link  \n",
       "count                                                1463  \n",
       "unique                                               1463  \n",
       "top     https://www.amazon.in/Borosil-Jumbo-1000-Watt-...  \n",
       "freq                                                    1  "
      ]
     },
     "execution_count": 9,
     "metadata": {},
     "output_type": "execute_result"
    }
   ],
   "source": [
    "data.describe()"
   ]
  },
  {
   "cell_type": "code",
   "execution_count": 10,
   "id": "238e79c6-dd6b-4f5a-9156-4664b96ed7c1",
   "metadata": {},
   "outputs": [
    {
     "data": {
      "text/plain": [
       "product_id             object\n",
       "product_name           object\n",
       "category               object\n",
       "discounted_price       object\n",
       "actual_price           object\n",
       "discount_percentage    object\n",
       "rating                 object\n",
       "rating_count           object\n",
       "about_product          object\n",
       "user_id                object\n",
       "user_name              object\n",
       "review_id              object\n",
       "review_title           object\n",
       "review_content         object\n",
       "img_link               object\n",
       "product_link           object\n",
       "dtype: object"
      ]
     },
     "execution_count": 10,
     "metadata": {},
     "output_type": "execute_result"
    }
   ],
   "source": [
    "# check the data type of all coulmn\n",
    "data.dtypes"
   ]
  },
  {
   "cell_type": "code",
   "execution_count": 11,
   "id": "12a5ab4d-7cd8-4701-85ab-939c56e44eb7",
   "metadata": {},
   "outputs": [],
   "source": [
    "# Columns to Convert (Change dtype)\n",
    "# discounted_price → should be float (₹ / numeric).\n",
    "# Remove ₹ and commas before converting.\n",
    "# actual_price → should be float (same cleaning as above).\n",
    "# discount_percentage → should be float (remove %, then convert).\n",
    "# rating → should be float (currently text, e.g., \"4.5 out of 5\").\n",
    "# rating_count → should be int (remove commas)."
   ]
  },
  {
   "cell_type": "code",
   "execution_count": 12,
   "id": "a8472132-580b-4bac-9cbe-a3f619387e43",
   "metadata": {},
   "outputs": [],
   "source": [
    "# Columns to Keep (Important for Project)\n",
    "# product_id\n",
    "# product_name\n",
    "# category\n",
    "# discounted_price\n",
    "# actual_price\n",
    "# discount_percentage\n",
    "# rating\n",
    "# rating_count\n",
    "# review_content"
   ]
  },
  {
   "cell_type": "markdown",
   "id": "525e6168-d11a-4e67-918d-581d927798b0",
   "metadata": {},
   "source": [
    "# Convert Object to float"
   ]
  },
  {
   "cell_type": "code",
   "execution_count": 13,
   "id": "4a0cf9bb-df4a-4aa1-9709-e9fde6f384b9",
   "metadata": {},
   "outputs": [],
   "source": [
    "# discount price change into float\n",
    "\n",
    "data[\"discounted_price\"] = pd.to_numeric(data[\"discounted_price\"].str.replace(\"₹\", \"\").str.replace(\",\", \"\"),errors=\"coerce\")"
   ]
  },
  {
   "cell_type": "code",
   "execution_count": 14,
   "id": "13b4d2ef-2da4-492b-ac8a-5c39b12d644f",
   "metadata": {},
   "outputs": [],
   "source": [
    "# actual price change into float\n",
    "\n",
    "data[\"actual_price\"] = pd.to_numeric(data[\"actual_price\"].str.replace(\"₹\", \"\").str.replace(\",\",\"\"),errors=\"coerce\")"
   ]
  },
  {
   "cell_type": "code",
   "execution_count": 15,
   "id": "fdab4baa-4e19-4a3f-8e2a-d54aef4a26a6",
   "metadata": {},
   "outputs": [],
   "source": [
    "# \"discount_percentage change into int\n",
    "\n",
    "data[\"discount_percentage\"]=pd.to_numeric(data[\"discount_percentage\"].str.replace(\"%\",\"\"),errors=\"coerce\")"
   ]
  },
  {
   "cell_type": "code",
   "execution_count": 16,
   "id": "79f47cdb-4f21-455c-a972-c7108855a931",
   "metadata": {},
   "outputs": [],
   "source": [
    "# convert the rating in float\n",
    "\n",
    "data[\"rating\"] = pd.to_numeric(data[\"rating\"].str.extract(r\"(\\d+\\.?\\d*)\")[0], errors=\"coerce\")"
   ]
  },
  {
   "cell_type": "code",
   "execution_count": 17,
   "id": "6b1346ca-a4f7-42f1-be44-f2aeb46e1461",
   "metadata": {},
   "outputs": [],
   "source": [
    "# convert the rating_count in int64\n",
    "\n",
    "data[\"rating_count\"] = pd.to_numeric(data[\"rating_count\"].str.replace(\",\", \"\"), errors=\"coerce\")"
   ]
  },
  {
   "cell_type": "code",
   "execution_count": 18,
   "id": "9d6a01c8-734a-4a20-a256-cc8f64977ac3",
   "metadata": {},
   "outputs": [
    {
     "data": {
      "text/plain": [
       "product_id              object\n",
       "product_name            object\n",
       "category                object\n",
       "discounted_price       float64\n",
       "actual_price           float64\n",
       "discount_percentage      int64\n",
       "rating                 float64\n",
       "rating_count             int64\n",
       "about_product           object\n",
       "user_id                 object\n",
       "user_name               object\n",
       "review_id               object\n",
       "review_title            object\n",
       "review_content          object\n",
       "img_link                object\n",
       "product_link            object\n",
       "dtype: object"
      ]
     },
     "execution_count": 18,
     "metadata": {},
     "output_type": "execute_result"
    }
   ],
   "source": [
    "# check the data type of all coulmn\n",
    "data.dtypes"
   ]
  },
  {
   "cell_type": "markdown",
   "id": "9d914ea4-726f-4f9e-b66c-809d62d327ae",
   "metadata": {},
   "source": [
    "## Now Drop The Extra Column"
   ]
  },
  {
   "cell_type": "code",
   "execution_count": 19,
   "id": "f8b349a1-100e-4a72-8676-549d1325f9f8",
   "metadata": {},
   "outputs": [],
   "source": [
    "# Columns You Can Drop (Not Important for Now)\n",
    "# about_product → too much free text (unless you want NLP).\n",
    "# user_id, user_name → privacy, not useful.\n",
    "# review_id, review_title → only needed if doing Sentiment Analysis.\n",
    "# img_link, product_link → not useful for data science."
   ]
  },
  {
   "cell_type": "code",
   "execution_count": 20,
   "id": "c3037555-4d55-4773-be03-8750c78e86af",
   "metadata": {},
   "outputs": [],
   "source": [
    "data.drop([\"about_product\",\"user_id\",\"user_name\",\"review_id\",\n",
    "           \"review_title\",\"img_link\",\"product_link\"], axis=1, inplace=True)"
   ]
  },
  {
   "cell_type": "code",
   "execution_count": 21,
   "id": "9ce41aee-476f-4d3c-bba1-445acb94e0f8",
   "metadata": {},
   "outputs": [
    {
     "data": {
      "text/plain": [
       "Index(['product_id', 'product_name', 'category', 'discounted_price',\n",
       "       'actual_price', 'discount_percentage', 'rating', 'rating_count',\n",
       "       'review_content'],\n",
       "      dtype='object')"
      ]
     },
     "execution_count": 21,
     "metadata": {},
     "output_type": "execute_result"
    }
   ],
   "source": [
    "data.columns"
   ]
  },
  {
   "cell_type": "markdown",
   "id": "05f99538-a353-4074-a018-adbec90caa87",
   "metadata": {},
   "source": [
    "## 📊 EDA / Business Questions"
   ]
  },
  {
   "cell_type": "markdown",
   "id": "18fc68dd-ff41-4f2f-b9df-5af594d9dc43",
   "metadata": {},
   "source": [
    "## 1. How do discounts affect ratings?\n",
    "### Does higher discount percentage lead to better product ratings?"
   ]
  },
  {
   "cell_type": "code",
   "execution_count": 22,
   "id": "7b422c68-f1e7-460a-b22e-8ec13bbe85af",
   "metadata": {},
   "outputs": [
    {
     "data": {
      "image/png": "[encoded data removed]",
      "text/plain": [
       "<Figure size 800x500 with 1 Axes>"
      ]
     },
     "metadata": {},
     "output_type": "display_data"
    }
   ],
   "source": [
    "import matplotlib.pyplot as plt\n",
    "plt.figure(figsize=(8,5))\n",
    "plt.scatter(data[\"discount_percentage\"], data[\"rating\"], alpha=0.5)\n",
    "plt.title(\"Discount % vs Rating\")\n",
    "plt.xlabel(\"Discount Percentage\")\n",
    "plt.ylabel(\"Rating\")\n",
    "plt.show()\n"
   ]
  },
  {
   "cell_type": "code",
   "execution_count": 23,
   "id": "8947537e-4e84-4b7e-b379-adca8d60cdf0",
   "metadata": {},
   "outputs": [
    {
     "name": "stdout",
     "output_type": "stream",
     "text": [
      "Correlation between discount % and rating: -0.15567900856041994\n"
     ]
    }
   ],
   "source": [
    "corr = data[\"discount_percentage\"].corr(data[\"rating\"])\n",
    "print(\"Correlation between discount % and rating:\", corr)"
   ]
  },
  {
   "cell_type": "markdown",
   "id": "bd5dead6-d1e4-40a3-84d3-907b1477cf6a",
   "metadata": {},
   "source": [
    "## 2.Which categories have the highest-rated products?\n",
    "### Compare average rating across categories."
   ]
  },
  {
   "cell_type": "code",
   "execution_count": 24,
   "id": "9b26e0e0-12e2-46cf-b91e-2a559c8eef5f",
   "metadata": {},
   "outputs": [
    {
     "name": "stdout",
     "output_type": "stream",
     "text": [
      "category\n",
      "Computers&Accessories|Tablets                                                                                    4.6\n",
      "Computers&Accessories|NetworkingDevices|NetworkAdapters|PowerLANAdapters                                         4.5\n",
      "Electronics|Cameras&Photography|Accessories|Film                                                                 4.5\n",
      "Computers&Accessories|Components|Memory                                                                          4.5\n",
      "Electronics|HomeAudio|MediaStreamingDevices|StreamingClients                                                     4.5\n",
      "                                                                                                                ... \n",
      "Computers&Accessories|Accessories&Peripherals|Audio&VideoAccessories|PCMicrophones                               3.6\n",
      "Electronics|HomeTheater,TV&Video|Accessories|3DGlasses                                                           3.5\n",
      "Computers&Accessories|Accessories&Peripherals|Audio&VideoAccessories|PCHeadsets                                  3.5\n",
      "Computers&Accessories|Accessories&Peripherals|Keyboards,Mice&InputDevices|Keyboard&MiceAccessories|DustCovers    3.4\n",
      "Home&Kitchen|Kitchen&HomeAppliances|Coffee,Tea&Espresso|CoffeeGrinders|ElectricGrinders                          3.3\n",
      "Name: rating, Length: 211, dtype: float64\n"
     ]
    }
   ],
   "source": [
    "category_rating = data.groupby(\"category\")[\"rating\"].mean().sort_values(ascending=False)\n",
    "print(category_rating)"
   ]
  },
  {
   "cell_type": "code",
   "execution_count": 25,
   "id": "695c06a9-2745-4997-a4e3-5443dc6492dc",
   "metadata": {},
   "outputs": [
    {
     "data": {
      "image/png": "[encoded data removed]",
      "text/plain": [
       "<Figure size 1000x600 with 1 Axes>"
      ]
     },
     "metadata": {},
     "output_type": "display_data"
    }
   ],
   "source": [
    "import matplotlib.pyplot as plt\n",
    "\n",
    "plt.figure(figsize=(10,6))\n",
    "category_rating.head(10).plot(kind=\"bar\", color=\"skyblue\")\n",
    "plt.title(\"Top 10 Categories by Average Rating\")\n",
    "plt.ylabel(\"Average Rating\")\n",
    "plt.xlabel(\"Category\")\n",
    "plt.xticks(rotation=90)\n",
    "plt.show()\n"
   ]
  },
  {
   "cell_type": "code",
   "execution_count": 26,
   "id": "65a8b6a7-ad12-497c-aa69-81c7a50f9905",
   "metadata": {},
   "outputs": [
    {
     "name": "stdout",
     "output_type": "stream",
     "text": [
      "                                                    avg_rating  product_count\n",
      "category                                                                     \n",
      "Computers&Accessories|Tablets                              4.6              1\n",
      "Computers&Accessories|NetworkingDevices|Network...         4.5              1\n",
      "Electronics|Cameras&Photography|Accessories|Film           4.5              1\n",
      "Computers&Accessories|Components|Memory                    4.5              1\n",
      "Electronics|HomeAudio|MediaStreamingDevices|Str...         4.5              1\n",
      "OfficeProducts|OfficeElectronics|Calculators|Basic         4.5              1\n",
      "HomeImprovement|Electrical|CordManagement                  4.5              1\n",
      "Home&Kitchen|Kitchen&HomeAppliances|Coffee,Tea&...         4.5              1\n",
      "Home&Kitchen|Kitchen&HomeAppliances|SmallKitche...         4.5              1\n",
      "Electronics|PowerAccessories|SurgeProtectors               4.5              1\n"
     ]
    }
   ],
   "source": [
    "category_stats = data.groupby(\"category\").agg(\n",
    "    avg_rating=(\"rating\", \"mean\"),\n",
    "    product_count=(\"product_id\", \"count\")\n",
    ").sort_values(by=\"avg_rating\", ascending=False)\n",
    "\n",
    "print(category_stats.head(10))\n"
   ]
  },
  {
   "cell_type": "markdown",
   "id": "edad44ad-1e63-4f04-8c83-77a6a5f5ec8b",
   "metadata": {},
   "source": [
    "## 3.Does rating_count (popularity) depend more on price or discount?\n",
    "### Find correlation between rating_count, price, and discount."
   ]
  },
  {
   "cell_type": "code",
   "execution_count": 27,
   "id": "c7df129a-7e34-44bc-b3f2-a7ae96b4310b",
   "metadata": {},
   "outputs": [],
   "source": [
    "# Clean rating_count (remove commas, convert to int)\n",
    "data[\"rating_count\"] = (\n",
    "    data[\"rating_count\"].astype(str).str.replace(\",\", \"\", regex=False).astype(float)\n",
    ")"
   ]
  },
  {
   "cell_type": "code",
   "execution_count": 28,
   "id": "6f65e3e9-ee2f-4167-91c0-88eb5b7f9dc5",
   "metadata": {},
   "outputs": [
    {
     "name": "stdout",
     "output_type": "stream",
     "text": [
      "Correlation with Discounted Price: -0.027260996789585084\n",
      "Correlation with Actual Price: -0.03613739459239697\n",
      "Correlation with Discount %: 0.011690974046132854\n"
     ]
    }
   ],
   "source": [
    "# coorelation check\n",
    "\n",
    "print(\"Correlation with Discounted Price:\", data[\"rating_count\"].corr(data[\"discounted_price\"]))\n",
    "print(\"Correlation with Actual Price:\", data[\"rating_count\"].corr(data[\"actual_price\"]))\n",
    "print(\"Correlation with Discount %:\", data[\"rating_count\"].corr(data[\"discount_percentage\"]))"
   ]
  },
  {
   "cell_type": "code",
   "execution_count": 29,
   "id": "92995b3d-adb6-4745-8d8f-59bb5d064bc0",
   "metadata": {},
   "outputs": [
    {
     "data": {
      "image/png": "[encoded data removed]",
      "text/plain": [
       "<Figure size 800x600 with 2 Axes>"
      ]
     },
     "metadata": {},
     "output_type": "display_data"
    }
   ],
   "source": [
    "import seaborn as sns\n",
    "import matplotlib.pyplot as plt\n",
    "\n",
    "plt.figure(figsize=(8,6))\n",
    "sns.heatmap(\n",
    "    data[[\"rating_count\", \"discounted_price\", \"actual_price\", \"discount_percentage\"]].corr(),\n",
    "    annot=True, cmap=\"Blues\"\n",
    ")\n",
    "plt.title(\"Correlation of Rating Count with Price & Discount\")\n",
    "plt.show()"
   ]
  },
  {
   "cell_type": "markdown",
   "id": "2ed3e875-ca2d-45ae-9165-d34df19e5fdb",
   "metadata": {},
   "source": [
    "## 🤖 ML / Prediction Questions"
   ]
  },
  {
   "cell_type": "markdown",
   "id": "732f553c-60d3-4890-b5e7-988939a80702",
   "metadata": {},
   "source": [
    "## 4.Can we predict the exact rating of a product based on price, discount, and category?\n",
    "### Regression problem → continuous rating prediction"
   ]
  },
  {
   "cell_type": "code",
   "execution_count": 30,
   "id": "b0ff935e-36c8-428e-bfb1-4bb92a96c5b4",
   "metadata": {},
   "outputs": [],
   "source": [
    "# Q4: Predict the Exact Rating (Regression Problem)\n",
    "# Goal: Use ML to predict product rating based on:\n",
    "# discounted_price\n",
    "# actual_price\n",
    "# discount_percentage\n",
    "# category"
   ]
  },
  {
   "cell_type": "code",
   "execution_count": 31,
   "id": "d7757439-4c59-43f8-9032-400353702746",
   "metadata": {},
   "outputs": [
    {
     "name": "stdout",
     "output_type": "stream",
     "text": [
      "Mean Squared Error: 0.06860503196405307\n",
      "R² Score: 0.07958896616294064\n"
     ]
    }
   ],
   "source": [
    "from sklearn.model_selection import train_test_split\n",
    "from sklearn.preprocessing import LabelEncoder\n",
    "from sklearn.linear_model import LinearRegression\n",
    "from sklearn.metrics import mean_squared_error, r2_score\n",
    "import pandas as pd\n",
    "\n",
    "# Encode category (convert text → numbers)\n",
    "le = LabelEncoder()\n",
    "data[\"category_encoded\"] = le.fit_transform(data[\"category\"])\n",
    "\n",
    "# Features (X) and Target (y) - handle missing values\n",
    "X = data[[\"discounted_price\", \"actual_price\", \"discount_percentage\", \"category_encoded\"]]\n",
    "y = data[\"rating\"]\n",
    "\n",
    "# Fill NaNs\n",
    "y = y.fillna(y.mean())\n",
    "X = X.fillna(X.mean())\n",
    "\n",
    "# Train-test split\n",
    "X_train, X_test, y_train, y_test = train_test_split(X, y, test_size=0.2, random_state=42)\n",
    "\n",
    "# Train model\n",
    "model = LinearRegression()\n",
    "model.fit(X_train, y_train)\n",
    "\n",
    "# Predictions\n",
    "y_pred = model.predict(X_test)\n",
    "\n",
    "# Evaluate Model\n",
    "mse = mean_squared_error(y_test, y_pred)\n",
    "r2 = r2_score(y_test, y_pred)\n",
    "\n",
    "print(\"Mean Squared Error:\", mse)\n",
    "print(\"R² Score:\", r2)\n"
   ]
  },
  {
   "cell_type": "code",
   "execution_count": 32,
   "id": "642b1400-ce36-4e77-a447-572f8fcbcdb7",
   "metadata": {},
   "outputs": [
    {
     "name": "stdout",
     "output_type": "stream",
     "text": [
      "               Feature  Coefficient\n",
      "1         actual_price     0.000013\n",
      "0     discounted_price    -0.000016\n",
      "3     category_encoded    -0.001008\n",
      "2  discount_percentage    -0.003076\n"
     ]
    }
   ],
   "source": [
    "# Check future importance \n",
    "importance = pd.DataFrame({\n",
    "    \"Feature\": X.columns,\n",
    "    \"Coefficient\": model.coef_\n",
    "}).sort_values(by=\"Coefficient\", ascending=False)\n",
    "\n",
    "print(importance)\n"
   ]
  },
  {
   "cell_type": "markdown",
   "id": "30df0129-884a-469f-be3b-5b9da25a783a",
   "metadata": {},
   "source": [
    "## 5.Can we predict if a product will be “Highly Rated” (≥ 4 stars)?\n",
    "### Target: is_high_rating = 1 if rating ≥ 4 else 0\n",
    "### Features: price, discount, category, rating_count"
   ]
  },
  {
   "cell_type": "code",
   "execution_count": 33,
   "id": "5236f142-8c2b-4c73-9e94-0f9e2710e73b",
   "metadata": {},
   "outputs": [
    {
     "name": "stdout",
     "output_type": "stream",
     "text": [
      "Accuracy: 0.7747440273037542\n",
      "\n",
      "Confusion Matrix:\n",
      " [[  1  61]\n",
      " [  5 226]]\n",
      "\n",
      "Classification Report:\n",
      "               precision    recall  f1-score   support\n",
      "\n",
      "           0       0.17      0.02      0.03        62\n",
      "           1       0.79      0.98      0.87       231\n",
      "\n",
      "    accuracy                           0.77       293\n",
      "   macro avg       0.48      0.50      0.45       293\n",
      "weighted avg       0.66      0.77      0.69       293\n",
      "\n"
     ]
    }
   ],
   "source": [
    "from sklearn.model_selection import train_test_split\n",
    "from sklearn.preprocessing import LabelEncoder\n",
    "from sklearn.linear_model import LogisticRegression\n",
    "from sklearn.metrics import accuracy_score, confusion_matrix, classification_report\n",
    "import pandas as pd\n",
    "\n",
    "# Create target variable (1 if rating ≥ 4 else 0)\n",
    "data[\"is_high_rating\"] = (data[\"rating\"] >= 4).astype(int)\n",
    "\n",
    "# Encode category\n",
    "le = LabelEncoder()\n",
    "data[\"category_encoded\"] = le.fit_transform(data[\"category\"])\n",
    "\n",
    "# Features and Target\n",
    "X = data[[\"discounted_price\", \"actual_price\", \"discount_percentage\", \"category_encoded\", \"rating_count\"]]\n",
    "y = data[\"is_high_rating\"]\n",
    "\n",
    "# Fill missing values\n",
    "X = X.fillna(X.mean())\n",
    "y = y.fillna(y.mode()[0])\n",
    "\n",
    "# Train-test split\n",
    "X_train, X_test, y_train, y_test = train_test_split(X, y, test_size=0.2, random_state=42)\n",
    "\n",
    "# Train model\n",
    "clf = LogisticRegression(max_iter=1000)\n",
    "clf.fit(X_train, y_train)\n",
    "\n",
    "# Predictions\n",
    "y_pred = clf.predict(X_test)\n",
    "\n",
    "# Evaluation\n",
    "acc = accuracy_score(y_test, y_pred)\n",
    "cm = confusion_matrix(y_test, y_pred)\n",
    "report = classification_report(y_test, y_pred)\n",
    "\n",
    "print(\"Accuracy:\", acc)\n",
    "print(\"\\nConfusion Matrix:\\n\", cm)\n",
    "print(\"\\nClassification Report:\\n\", report)"
   ]
  },
  {
   "cell_type": "code",
   "execution_count": null,
   "id": "f800ca6f-9174-4377-97cd-f3e127b37a89",
   "metadata": {},
   "outputs": [],
   "source": [
    "Built a regression model to predict product ratings from price, discount, and category.\n",
    "Achieved R² = ~X.XX, showing that category/discount has more impact than price.\n",
    "Insights: Customers value discounts more than absolute price when rating products."
   ]
  },
  {
   "cell_type": "code",
   "execution_count": null,
   "id": "b980e87c-e10d-44f8-823c-668b26a40ebb",
   "metadata": {},
   "outputs": [],
   "source": []
  },
  {
   "cell_type": "code",
   "execution_count": null,
   "id": "3b3d5e41-1916-4148-8784-4af8b2ffcc07",
   "metadata": {},
   "outputs": [],
   "source": []
  },
  {
   "cell_type": "code",
   "execution_count": null,
   "id": "805f349d-deb1-479e-a186-dc431d38a371",
   "metadata": {},
   "outputs": [],
   "source": []
  },
  {
   "cell_type": "code",
   "execution_count": null,
   "id": "6f89a57f-0a22-4a0a-a8c6-ea78f14d6e2a",
   "metadata": {},
   "outputs": [],
   "source": []
  },
  {
   "cell_type": "code",
   "execution_count": null,
   "id": "37d2db25-0b1f-478b-a968-40675149374c",
   "metadata": {},
   "outputs": [],
   "source": []
  },
  {
   "cell_type": "code",
   "execution_count": null,
   "id": "cb68859e-82b7-49b3-b150-225700cf335e",
   "metadata": {},
   "outputs": [],
   "source": []
  },
  {
   "cell_type": "code",
   "execution_count": null,
   "id": "7c48248a-b99e-4301-b260-f57d13a54207",
   "metadata": {},
   "outputs": [],
   "source": []
  },
  {
   "cell_type": "code",
   "execution_count": null,
   "id": "e7ad11e7-9b92-4148-a5b2-c9ea813c6a55",
   "metadata": {},
   "outputs": [],
   "source": []
  },
  {
   "cell_type": "code",
   "execution_count": null,
   "id": "5d0c048a-6b72-4d46-84d5-2e113aa7e9bb",
   "metadata": {},
   "outputs": [],
   "source": []
  }
 ],
 "metadata": {
  "kernelspec": {
   "display_name": "Python 3 (ipykernel)",
   "language": "python",
   "name": "python3"
  },
  "language_info": {
   "codemirror_mode": {
    "name": "ipython",
    "version": 3
   },
   "file_extension": ".py",
   "mimetype": "text/x-python",
   "name": "python",
   "nbconvert_exporter": "python",
   "pygments_lexer": "ipython3",
   "version": "3.13.2"
  }
 },
 "nbformat": 4,
 "nbformat_minor": 5
}
